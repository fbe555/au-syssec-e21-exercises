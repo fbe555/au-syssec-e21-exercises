{
 "cells": [
  {
   "cell_type": "markdown",
   "id": "98b776cd-9abd-4edb-8cbc-5d1346f64d79",
   "metadata": {},
   "source": []
  },
  {
   "cell_type": "markdown",
   "id": "d814a391-a44b-4d9e-a4a0-051c14e9e118",
   "metadata": {},
   "source": [
    "Dependencies\n",
    "------------"
   ]
  },
  {
   "cell_type": "markdown",
   "id": "10e7e496-979a-4613-8d61-74498a8eab21",
   "metadata": {},
   "source": [
    "``` bash\n",
    "sudo apt install mitmproxy\n",
    "```"
   ]
  },
  {
   "cell_type": "markdown",
   "id": "46141796-9561-4c24-af65-1548394a8191",
   "metadata": {},
   "source": [
    "ARP spoofing\n",
    "------------\n",
    "pc connected as 192.168.1.131  \n",
    "mobile phone connected at 192.168.1.181 with pc as gateway"
   ]
  },
  {
   "cell_type": "markdown",
   "id": "107d4731-7456-4849-b724-3fbb9e20e3e4",
   "metadata": {},
   "source": [
    "```bash\n",
    "sudo arpspoof -i wlp61s0 -t 192.168.1.181 192.168.3.32\n",
    "```"
   ]
  },
  {
   "cell_type": "markdown",
   "id": "16379a7a-4aa7-4bb3-b05a-a8edba0e9e4b",
   "metadata": {},
   "source": [
    "No effect since the mobile phone is not trying to resolve 192.168.3.32 directly since it's out of it's subnet. Instead the phone goes to it's default gateway, which is ARP'ed correctly  \n",
    "In order not to have the entire class spoofing the router mac resolution at the same time, a different address is configured as the gateway.\n",
    "In this case 192.168.1.32 was selected. The selected address is now spoofed (mimicking spoofing the router address), with the following command on the pc:\n",
    "```bash\n",
    "sudo arpspoof -i wlp61s0 -t 192.168.1.181 192.168.1.32\n",
    "```"
   ]
  },
  {
   "cell_type": "markdown",
   "id": "a6b3f790-4379-4bf4-b334-58127f391737",
   "metadata": {},
   "source": [
    "Restoring access\n",
    "----------------\n",
    "The mobile phone is now unable to load the web page since the communication is directed to the pc. In order to use this for a sniffing attack, forwarding must first be enabled:  \n",
    "```bash\n",
    "sudo iptables -A FORWARD -i wlp61s0 -j ACCEPT\n",
    "```\n",
    "Now the page loads normally on the phone, and the traffic can be sniffed on the pc.\n"
   ]
  },
  {
   "cell_type": "markdown",
   "id": "cfb4f6ec-7103-4292-8e92-ddd6122cbe7d",
   "metadata": {},
   "source": [
    "Running mitmproxy\n",
    "-----------------\n",
    "\n",
    "Unfortunately there was a problem trying to run mitmproxy on the pc, possibly related to running on ubuntu 20.04"
   ]
  },
  {
   "cell_type": "code",
   "execution_count": null,
   "id": "f932a521-f74f-4e31-9c4f-55650f06952a",
   "metadata": {},
   "outputs": [],
   "source": []
  }
 ],
 "metadata": {
  "kernelspec": {
   "display_name": "Python 3",
   "language": "python",
   "name": "python3"
  },
  "language_info": {
   "codemirror_mode": {
    "name": "ipython",
    "version": 3
   },
   "file_extension": ".py",
   "mimetype": "text/x-python",
   "name": "python",
   "nbconvert_exporter": "python",
   "pygments_lexer": "ipython3",
   "version": "3.8.10"
  }
 },
 "nbformat": 4,
 "nbformat_minor": 5
}
